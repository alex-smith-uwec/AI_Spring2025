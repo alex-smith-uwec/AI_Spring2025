{
  "nbformat": 4,
  "nbformat_minor": 0,
  "metadata": {
    "colab": {
      "provenance": [],
      "authorship_tag": "ABX9TyM810+UPXkf1KUVKPqWJzcP",
      "include_colab_link": true
    },
    "kernelspec": {
      "name": "python3",
      "display_name": "Python 3"
    },
    "language_info": {
      "name": "python"
    }
  },
  "cells": [
    {
      "cell_type": "markdown",
      "metadata": {
        "id": "view-in-github",
        "colab_type": "text"
      },
      "source": [
        "<a href=\"https://colab.research.google.com/github/alex-smith-uwec/AI_Spring2025/blob/main/FrozenLake_RL.ipynb\" target=\"_parent\"><img src=\"https://colab.research.google.com/assets/colab-badge.svg\" alt=\"Open In Colab\"/></a>"
      ]
    },
    {
      "cell_type": "code",
      "execution_count": 1,
      "metadata": {
        "id": "_ZFArmj7sdgh"
      },
      "outputs": [],
      "source": [
        "import numpy as np\n",
        "import gymnasium as gym\n",
        "import matplotlib.pyplot as plt\n"
      ]
    },
    {
      "cell_type": "code",
      "source": [
        "\n",
        "# Initialize FrozenLake environment\n",
        "env = gym.make(\"FrozenLake-v1\", desc=None, map_name=\"4x4\", is_slippery=True, render_mode=None)\n",
        "n_actions = env.action_space.n\n",
        "n_states = env.observation_space.n\n"
      ],
      "metadata": {
        "id": "AF9CMulss6bR"
      },
      "execution_count": 53,
      "outputs": []
    },
    {
      "cell_type": "code",
      "source": [
        "def print_frozen_lake_layout(env):\n",
        "    desc = env.unwrapped.desc.astype(str)\n",
        "    size = desc.shape[0]\n",
        "\n",
        "    for i in range(size):\n",
        "        row = \"\"\n",
        "        for j in range(size):\n",
        "            cell = f\" {desc[i][j]} \"\n",
        "            row += f\"|{cell}\"\n",
        "        row += \"|\"\n",
        "        print(row)\n",
        "        print(\"-\" * len(row))\n",
        "print_frozen_lake_layout(env)"
      ],
      "metadata": {
        "colab": {
          "base_uri": "https://localhost:8080/"
        },
        "id": "TlWwoLKGBA_L",
        "outputId": "99da2217-b5b1-4b24-9903-27ad4210bd9e"
      },
      "execution_count": 54,
      "outputs": [
        {
          "output_type": "stream",
          "name": "stdout",
          "text": [
            "| S | F | F | F |\n",
            "-----------------\n",
            "| F | H | F | H |\n",
            "-----------------\n",
            "| F | F | F | H |\n",
            "-----------------\n",
            "| H | F | F | G |\n",
            "-----------------\n"
          ]
        }
      ]
    },
    {
      "cell_type": "code",
      "source": [
        "# Q-learning parameters\n",
        "alpha = 0.2  # Learning rate\n",
        "gamma = 0.95  # Discount factor\n",
        "epsilon = 0.95  # Initial exploration probability\n",
        "epsilon_min = 0.01\n",
        "epsilon_decay = 0.995\n",
        "num_episodes = 5000\n"
      ],
      "metadata": {
        "id": "aQGVCNyZs-Xb"
      },
      "execution_count": 63,
      "outputs": []
    },
    {
      "cell_type": "code",
      "source": [
        "\n",
        "# Initialize Q-table\n",
        "Q = np.zeros((n_states, n_actions))\n",
        "\n",
        "# Store rewards per episode\n",
        "rewards_per_episode = []\n",
        "\n",
        "# Q-learning loop\n",
        "for episode in range(num_episodes):\n",
        "    state, _ = env.reset()\n",
        "    total_reward = 0\n",
        "    done = False\n",
        "\n",
        "    while not done:\n",
        "        # Choose action using epsilon-greedy policy\n",
        "        if np.random.rand() < epsilon:\n",
        "            action = env.action_space.sample()  # Explore\n",
        "        else:\n",
        "            action = np.argmax(Q[state, :])  # Exploit\n",
        "\n",
        "        next_state, reward, done, truncated, _ = env.step(action)\n",
        "\n",
        "        # Update Q-value\n",
        "        Q[state, action] = (1 - alpha) * Q[state, action] + alpha * (reward + gamma * np.max(Q[next_state, :]))\n",
        "\n",
        "        state = next_state\n",
        "        total_reward += reward\n",
        "\n",
        "    # Decay epsilon\n",
        "    epsilon = max(epsilon_min, epsilon * epsilon_decay)\n",
        "    rewards_per_episode.append(total_reward)\n",
        "\n",
        "    if (episode + 1) % 500 == 0:\n",
        "        print(f\"Episode {episode + 1}/{num_episodes}, Epsilon: {epsilon:.4f}, Avg Reward: {np.mean(rewards_per_episode[-100:]):.2f}\")\n"
      ],
      "metadata": {
        "colab": {
          "base_uri": "https://localhost:8080/"
        },
        "id": "FdzvZyeEuEPP",
        "outputId": "3fd0d53f-0f76-49df-8199-787eebef5a76"
      },
      "execution_count": 56,
      "outputs": [
        {
          "output_type": "stream",
          "name": "stdout",
          "text": [
            "Episode 500/5000, Epsilon: 0.0775, Avg Reward: 0.25\n",
            "Episode 1000/5000, Epsilon: 0.0100, Avg Reward: 0.73\n",
            "Episode 1500/5000, Epsilon: 0.0100, Avg Reward: 0.72\n",
            "Episode 2000/5000, Epsilon: 0.0100, Avg Reward: 0.60\n",
            "Episode 2500/5000, Epsilon: 0.0100, Avg Reward: 0.64\n",
            "Episode 3000/5000, Epsilon: 0.0100, Avg Reward: 0.74\n",
            "Episode 3500/5000, Epsilon: 0.0100, Avg Reward: 0.55\n",
            "Episode 4000/5000, Epsilon: 0.0100, Avg Reward: 0.68\n",
            "Episode 4500/5000, Epsilon: 0.0100, Avg Reward: 0.70\n",
            "Episode 5000/5000, Epsilon: 0.0100, Avg Reward: 0.69\n"
          ]
        }
      ]
    },
    {
      "cell_type": "code",
      "source": [
        "# Plot learning curve\n",
        "plt.plot(np.convolve(rewards_per_episode, np.ones(100)/100, mode='valid'))\n",
        "plt.xlabel(\"Episode\")\n",
        "plt.ylabel(\"Average Reward (100-episode moving avg)\")\n",
        "plt.title(\"Q-learning Performance on Frozen Lake\")\n",
        "plt.show()\n",
        "\n",
        "# Display learned Q-table\n",
        "print(\"Learned Q-table:\")\n",
        "print(Q)\n",
        "\n",
        "# Value Iteration to find optimal utilities\n",
        "V = np.zeros(n_states)\n",
        "threshold = 1e-6\n",
        "delta = float(\"inf\")\n",
        "env_unwrapped = env.unwrapped  # Get the raw environment\n",
        "\n",
        "while delta > threshold:\n",
        "    delta = 0\n",
        "    for state in range(n_states):\n",
        "        v = V[state]\n",
        "        V[state] = max(sum(prob * (reward + gamma * V[next_state])\n",
        "                          for prob, next_state, reward, _ in env_unwrapped.P[state][action])\n",
        "                       for action in range(n_actions))\n",
        "        delta = max(delta, abs(v - V[state]))\n",
        "\n",
        "# Display optimal utility values\n",
        "print(\"\\n\\n\\nOptimal state values from Value Iteration:\")\n",
        "print(V)\n",
        "\n",
        "# Compare max Q-values to optimal state values\n",
        "print(\"State | Max Q-Value | Optimal V-Value | Difference\")\n",
        "print(\"---------------------------------------------------\")\n",
        "for state in range(n_states):\n",
        "    max_q = np.max(Q[state, :])\n",
        "    optimal_v = V[state]\n",
        "    diff = abs(max_q - optimal_v)\n",
        "    print(f\"{state:5} | {max_q:10.4f} | {optimal_v:10.4f} | {diff:10.4f}\")\n"
      ],
      "metadata": {
        "colab": {
          "base_uri": "https://localhost:8080/",
          "height": 1000
        },
        "id": "_WqPCk4atC4J",
        "outputId": "cc54f36e-ea6a-4d67-e03c-dc689c628fab"
      },
      "execution_count": 57,
      "outputs": [
        {
          "output_type": "display_data",
          "data": {
            "text/plain": [
              "<Figure size 640x480 with 1 Axes>"
            ],
            "image/png": "[encoded data removed]"
          },
          "metadata": {}
        },
        {
          "output_type": "stream",
          "name": "stdout",
          "text": [
            "Learned Q-table:\n",
            "[[0.2650917  0.12816396 0.1421056  0.12257886]\n",
            " [0.07074152 0.09068235 0.07533299 0.14561309]\n",
            " [0.09260632 0.11365712 0.1009767  0.08444139]\n",
            " [0.06992649 0.04217557 0.02626994 0.09271838]\n",
            " [0.31392271 0.11570879 0.09705071 0.06169085]\n",
            " [0.         0.         0.         0.        ]\n",
            " [0.04270968 0.03633461 0.19922588 0.02543891]\n",
            " [0.         0.         0.         0.        ]\n",
            " [0.19349982 0.16512899 0.12771115 0.3907451 ]\n",
            " [0.27379191 0.52697357 0.2045632  0.1947963 ]\n",
            " [0.63442115 0.1668846  0.16130052 0.13863328]\n",
            " [0.         0.         0.         0.        ]\n",
            " [0.         0.         0.         0.        ]\n",
            " [0.21096324 0.36342089 0.66784135 0.34436903]\n",
            " [0.47823015 0.9254722  0.56953387 0.44644811]\n",
            " [0.         0.         0.         0.        ]]\n",
            "\n",
            "\n",
            "\n",
            "Optimal state values from Value Iteration:\n",
            "[0.18046404 0.15475089 0.15347326 0.13254421 0.20896091 0.\n",
            " 0.17642894 0.         0.27045289 0.37464883 0.40367096 0.\n",
            " 0.         0.50897814 0.72367275 0.        ]\n",
            "State | Max Q-Value | Optimal V-Value | Difference\n",
            "---------------------------------------------------\n",
            "    0 |     0.2651 |     0.1805 |     0.0846\n",
            "    1 |     0.1456 |     0.1548 |     0.0091\n",
            "    2 |     0.1137 |     0.1535 |     0.0398\n",
            "    3 |     0.0927 |     0.1325 |     0.0398\n",
            "    4 |     0.3139 |     0.2090 |     0.1050\n",
            "    5 |     0.0000 |     0.0000 |     0.0000\n",
            "    6 |     0.1992 |     0.1764 |     0.0228\n",
            "    7 |     0.0000 |     0.0000 |     0.0000\n",
            "    8 |     0.3907 |     0.2705 |     0.1203\n",
            "    9 |     0.5270 |     0.3746 |     0.1523\n",
            "   10 |     0.6344 |     0.4037 |     0.2308\n",
            "   11 |     0.0000 |     0.0000 |     0.0000\n",
            "   12 |     0.0000 |     0.0000 |     0.0000\n",
            "   13 |     0.6678 |     0.5090 |     0.1589\n",
            "   14 |     0.9255 |     0.7237 |     0.2018\n",
            "   15 |     0.0000 |     0.0000 |     0.0000\n"
          ]
        }
      ]
    },
    {
      "cell_type": "code",
      "source": [
        "# Extract policy from Q-table\n",
        "policy = np.argmax(Q, axis=1)\n",
        "\n",
        "# Print the policy\n",
        "print(\"Extracted Policy:\")\n",
        "print(policy)"
      ],
      "metadata": {
        "colab": {
          "base_uri": "https://localhost:8080/"
        },
        "id": "fwYroJB2DbFb",
        "outputId": "cead65f0-30f4-4ef0-d7a9-258269a89f18"
      },
      "execution_count": 58,
      "outputs": [
        {
          "output_type": "stream",
          "name": "stdout",
          "text": [
            "Extracted Policy:\n",
            "[0 3 1 3 0 0 2 0 3 1 0 0 0 2 1 0]\n"
          ]
        }
      ]
    },
    {
      "cell_type": "code",
      "source": [
        "def visualize_policy(policy, env):\n",
        "    \"\"\"Visualizes the policy as a 4x4 grid with arrows.\n",
        "\n",
        "    Args:\n",
        "        policy: The policy to visualize (a NumPy array).\n",
        "        env: The FrozenLake environment.\n",
        "    \"\"\"\n",
        "    desc = env.unwrapped.desc.astype(str)\n",
        "    size = desc.shape[0]\n",
        "\n",
        "    for i in range(size):\n",
        "        row = \"\"\n",
        "        for j in range(size):\n",
        "            cell = f\" {desc[i][j]} \"\n",
        "            state = i * size + j\n",
        "\n",
        "            # Map actions to arrows\n",
        "            if policy[state] == 0:\n",
        "                arrow = \"←\"  # Left\n",
        "            elif policy[state] == 1:\n",
        "                arrow = \"↓\"  # Down\n",
        "            elif policy[state] == 2:\n",
        "                arrow = \"→\"  # Right\n",
        "            elif policy[state] == 3:\n",
        "                arrow = \"↑\"  # Up\n",
        "            else:\n",
        "                arrow = \" \"  # No action\n",
        "\n",
        "            row += f\"|{cell}{arrow}\"\n",
        "        row += \"|\"\n",
        "        print(row)\n",
        "        print(\"-\" * len(row))\n",
        "\n",
        "# Call the function to visualize the policy\n",
        "visualize_policy(policy, env)"
      ],
      "metadata": {
        "colab": {
          "base_uri": "https://localhost:8080/"
        },
        "id": "O-BLw6prD74i",
        "outputId": "d55d71d5-1aec-4fcd-9c8e-e5d84d118f54"
      },
      "execution_count": 59,
      "outputs": [
        {
          "output_type": "stream",
          "name": "stdout",
          "text": [
            "| S ←| F ↑| F ↓| F ↑|\n",
            "---------------------\n",
            "| F ←| H ←| F →| H ←|\n",
            "---------------------\n",
            "| F ↑| F ↓| F ←| H ←|\n",
            "---------------------\n",
            "| H ←| F →| F ↓| G ←|\n",
            "---------------------\n"
          ]
        }
      ]
    },
    {
      "cell_type": "code",
      "source": [
        "\n",
        "\n",
        "\n",
        "\n",
        "# Simulate average reward per episode using the optimal policy\n",
        "# In the simulation of average reward, keep track of the number of steps per episode, and make a histogram of the number of steps.\n",
        "\n",
        "num_simulations = 1000\n",
        "total_rewards = []\n",
        "steps_per_episode = []  # Keep track of steps per episode\n",
        "\n",
        "for _ in range(num_simulations):\n",
        "    state, _ = env.reset()\n",
        "    total_reward = 0\n",
        "    done = False\n",
        "    steps = 0\n",
        "\n",
        "    while not done:\n",
        "        action = policy[state]  # Use the extracted policy\n",
        "        next_state, reward, done, truncated, _ = env.step(action)\n",
        "        state = next_state\n",
        "        total_reward += reward\n",
        "        steps += 1\n",
        "\n",
        "    total_rewards.append(total_reward)\n",
        "    steps_per_episode.append(steps)\n",
        "\n",
        "average_reward = np.mean(total_rewards)\n",
        "average_steps = np.mean(steps_per_episode)  # Calculate average steps\n",
        "print(f\"\\nAverage reward per episode using the optimal policy: {average_reward:.4f}\")\n",
        "print(f\"Average number of steps per episode: {average_steps:.2f}\")\n",
        "\n",
        "# Histogram of number of steps per episode\n",
        "plt.hist(steps_per_episode, bins=20)\n",
        "plt.xlabel(\"Number of Steps\")\n",
        "plt.ylabel(\"Frequency\")\n",
        "plt.title(\"Histogram of Steps per Episode\")\n",
        "plt.show()\n"
      ],
      "metadata": {
        "colab": {
          "base_uri": "https://localhost:8080/",
          "height": 523
        },
        "id": "5Z3WNtzHr1WS",
        "outputId": "386e7de0-e4c0-4803-e69b-40889693c14e"
      },
      "execution_count": 60,
      "outputs": [
        {
          "output_type": "stream",
          "name": "stdout",
          "text": [
            "\n",
            "Average reward per episode using the optimal policy: 0.7790\n",
            "Average number of steps per episode: 45.02\n"
          ]
        },
        {
          "output_type": "display_data",
          "data": {
            "text/plain": [
              "<Figure size 640x480 with 1 Axes>"
            ],
            "image/png": "[encoded data removed]"
          },
          "metadata": {}
        }
      ]
    },
    {
      "cell_type": "code",
      "source": [
        "gamma**44"
      ],
      "metadata": {
        "colab": {
          "base_uri": "https://localhost:8080/"
        },
        "id": "qnwRKmnbsHuu",
        "outputId": "a63eed7a-52fc-43fa-8886-f4200d14bad4"
      },
      "execution_count": 61,
      "outputs": [
        {
          "output_type": "execute_result",
          "data": {
            "text/plain": [
              "0.10467395472325501"
            ]
          },
          "metadata": {},
          "execution_count": 61
        }
      ]
    },
    {
      "cell_type": "code",
      "source": [
        "# Initialize Q-table\n",
        "Q = np.zeros((n_states, n_actions))\n",
        "rewards_per_episode = []\n",
        "\n",
        "for episode in range(num_episodes):\n",
        "    state, _ = env.reset()\n",
        "    # Initial action via epsilon-greedy\n",
        "    if np.random.rand() < epsilon:\n",
        "        action = env.action_space.sample()\n",
        "    else:\n",
        "        action = np.argmax(Q[state, :])\n",
        "\n",
        "    total_reward = 0\n",
        "    done = False\n",
        "\n",
        "    while not done:\n",
        "        next_state, reward, done, truncated, _ = env.step(action)\n",
        "        # Choose next action via epsilon-greedy\n",
        "        if np.random.rand() < epsilon:\n",
        "            next_action = env.action_space.sample()\n",
        "        else:\n",
        "            next_action = np.argmax(Q[next_state, :])\n",
        "\n",
        "        # SARSA update\n",
        "        Q[state, action] = (1 - alpha) * Q[state, action] + alpha * (\n",
        "            reward + gamma * Q[next_state, next_action]\n",
        "        )\n",
        "\n",
        "        state, action = next_state, next_action\n",
        "        total_reward += reward\n",
        "\n",
        "    epsilon = max(epsilon_min, epsilon * epsilon_decay)\n",
        "    rewards_per_episode.append(total_reward)\n",
        "\n",
        "    if (episode + 1) % 500 == 0:\n",
        "        print(f\"Episode {episode + 1}/{num_episodes}, Epsilon: {epsilon:.4f}, \"\n",
        "              f\"Avg Reward: {np.mean(rewards_per_episode[-100:]):.2f}\")\n"
      ],
      "metadata": {
        "colab": {
          "base_uri": "https://localhost:8080/"
        },
        "id": "cSc2uMx0sNpz",
        "outputId": "b2759715-e702-4ad5-e5af-e1718c7562c3"
      },
      "execution_count": 64,
      "outputs": [
        {
          "output_type": "stream",
          "name": "stdout",
          "text": [
            "Episode 500/5000, Epsilon: 0.0775, Avg Reward: 0.16\n",
            "Episode 1000/5000, Epsilon: 0.0100, Avg Reward: 0.43\n",
            "Episode 1500/5000, Epsilon: 0.0100, Avg Reward: 0.54\n",
            "Episode 2000/5000, Epsilon: 0.0100, Avg Reward: 0.47\n",
            "Episode 2500/5000, Epsilon: 0.0100, Avg Reward: 0.73\n",
            "Episode 3000/5000, Epsilon: 0.0100, Avg Reward: 0.56\n",
            "Episode 3500/5000, Epsilon: 0.0100, Avg Reward: 0.49\n",
            "Episode 4000/5000, Epsilon: 0.0100, Avg Reward: 0.78\n",
            "Episode 4500/5000, Epsilon: 0.0100, Avg Reward: 0.72\n",
            "Episode 5000/5000, Epsilon: 0.0100, Avg Reward: 0.76\n"
          ]
        }
      ]
    },
    {
      "cell_type": "code",
      "source": [],
      "metadata": {
        "id": "DcjIMvCmuBT9"
      },
      "execution_count": null,
      "outputs": []
    }
  ]
}