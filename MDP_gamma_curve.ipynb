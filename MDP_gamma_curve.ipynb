{
  "nbformat": 4,
  "nbformat_minor": 0,
  "metadata": {
    "colab": {
      "provenance": [],
      "authorship_tag": "ABX9TyN5hzoABZOxShw/e5H6EGPl",
      "include_colab_link": true
    },
    "kernelspec": {
      "name": "python3",
      "display_name": "Python 3"
    },
    "language_info": {
      "name": "python"
    }
  },
  "cells": [
    {
      "cell_type": "markdown",
      "metadata": {
        "id": "view-in-github",
        "colab_type": "text"
      },
      "source": [
        "<a href=\"https://colab.research.google.com/github/alex-smith-uwec/AI_Spring2025/blob/main/MDP_gamma_curve.ipynb\" target=\"_parent\"><img src=\"https://colab.research.google.com/assets/colab-badge.svg\" alt=\"Open In Colab\"/></a>"
      ]
    },
    {
      "cell_type": "code",
      "execution_count": 3,
      "metadata": {
        "id": "LISLfuPAxeQB"
      },
      "outputs": [],
      "source": [
        "import numpy as np\n",
        "\n",
        "def value_iteration(gamma, epsilon=0.001):\n",
        "    \"\"\"\n",
        "    Performs value iteration on the grid world.\n",
        "\n",
        "    Grid layout (0-indexed):\n",
        "      Columns: 0,1,2,3\n",
        "      Rows: 0,1,2   (row 0 is bottom)\n",
        "\n",
        "    Special cells:\n",
        "      - Terminal states:\n",
        "            (3,2) with reward +1   (top-right)\n",
        "            (3,1) with reward -1   (middle-right)\n",
        "      - Blocked cell (inaccessible):\n",
        "            (1,1)\n",
        "      - All other states get a reward of -0.04 per move.\n",
        "\n",
        "    Actions:\n",
        "      - 'up', 'down', 'left', 'right'\n",
        "      - When an action is chosen, the agent moves in the intended direction with probability 0.8,\n",
        "        and in each of the two perpendicular directions with probability 0.1.\n",
        "      - If a move would hit the wall, go off the grid, or hit the blocked cell, the agent remains in place.\n",
        "\n",
        "    Returns:\n",
        "      A tuple (U, terminals) where U is a dictionary mapping each accessible state (tuple (x,y))\n",
        "      to its computed utility and terminals is the dictionary of terminal states.\n",
        "    \"\"\"\n",
        "    # Grid dimensions\n",
        "    width, height = 4, 3\n",
        "\n",
        "    # Define the blocked cell and terminal states\n",
        "    wall = (1, 1)  # blocked cell (inaccessible)\n",
        "    terminals = {(3, 2): 1, (3, 1): -1}\n",
        "\n",
        "    # Build list of states (all grid cells except the wall)\n",
        "    states = [(x, y) for x in range(width) for y in range(height) if (x, y) != wall]\n",
        "\n",
        "    # Set rewards: terminal states have their fixed rewards; all others get -0.04.\n",
        "    rewards = {s: terminals[s] if s in terminals else -0.04 for s in states}\n",
        "\n",
        "    # Define possible actions and their corresponding movement vectors.\n",
        "    actions = ['up', 'down', 'left', 'right']\n",
        "    action_vectors = {\n",
        "        'up':    (0, 1),\n",
        "        'down':  (0, -1),\n",
        "        'left':  (-1, 0),\n",
        "        'right': (1, 0)\n",
        "    }\n",
        "    # Perpendicular moves for each action.\n",
        "    perpendicular = {\n",
        "        'up':    ['left', 'right'],\n",
        "        'down':  ['left', 'right'],\n",
        "        'left':  ['up', 'down'],\n",
        "        'right': ['up', 'down']\n",
        "    }\n",
        "\n",
        "    def move(state, vector):\n",
        "        \"\"\"Returns the resulting state when moving from 'state' using 'vector'.\n",
        "           If the move goes off the grid or into the wall, the state remains unchanged.\"\"\"\n",
        "        next_state = (state[0] + vector[0], state[1] + vector[1])\n",
        "        if (next_state[0] < 0 or next_state[0] >= width or\n",
        "            next_state[1] < 0 or next_state[1] >= height or\n",
        "            next_state == wall):\n",
        "            return state\n",
        "        return next_state\n",
        "\n",
        "    # Initialize utilities: nonterminal states start at 0; terminal states fixed.\n",
        "    U = {s: 0 for s in states}\n",
        "    for s in terminals:\n",
        "        U[s] = terminals[s]\n",
        "\n",
        "    # Special-case: if gamma == 0, one iteration is enough because future rewards are ignored.\n",
        "    if gamma == 0:\n",
        "        for s in states:\n",
        "            if s not in terminals:\n",
        "                U[s] = rewards[s]\n",
        "        print(\"Gamma = 0, converged in one iteration.\")\n",
        "        return U, terminals\n",
        "\n",
        "    iteration = 0\n",
        "    while True:\n",
        "        U_new = U.copy()\n",
        "        delta = 0\n",
        "        for s in states:\n",
        "            if s in terminals:\n",
        "                continue  # terminal states remain fixed\n",
        "            action_values = []\n",
        "            for a in actions:\n",
        "                intended_state = move(s, action_vectors[a])\n",
        "                perp1_state = move(s, action_vectors[perpendicular[a][0]])\n",
        "                perp2_state = move(s, action_vectors[perpendicular[a][1]])\n",
        "                expected_util = (0.8 * U[intended_state] +\n",
        "                                 0.1 * U[perp1_state] +\n",
        "                                 0.1 * U[perp2_state])\n",
        "                action_values.append(expected_util)\n",
        "            best_action_value = max(action_values)\n",
        "            U_new[s] = rewards[s] + gamma * best_action_value\n",
        "            delta = max(delta, abs(U_new[s] - U[s]))\n",
        "        U = U_new\n",
        "        iteration += 1\n",
        "        # Convergence criterion adjusted for gamma\n",
        "        if delta < epsilon * (1 - gamma) / gamma:\n",
        "            break\n",
        "    print(f\"Gamma = {gamma} converged after {iteration} iterations.\")\n",
        "    return U, terminals\n",
        "\n"
      ]
    },
    {
      "cell_type": "code",
      "source": [
        "def print_grid(U):\n",
        "    \"\"\"\n",
        "    Prints the utility values in a grid format.\n",
        "    Uses the same grid conventions as in value_iteration.\n",
        "    \"\"\"\n",
        "    width, height = 4, 3\n",
        "    wall = (1, 1)\n",
        "    grid = []\n",
        "    for y in reversed(range(height)):  # top row first\n",
        "        row = []\n",
        "        for x in range(width):\n",
        "            s = (x, y)\n",
        "            if s == wall:\n",
        "                row.append(\" WALL \")\n",
        "            elif s in U:\n",
        "                row.append(f\"{U[s]:6.3f}\")\n",
        "            else:\n",
        "                row.append(\"  N/A \")\n",
        "        grid.append(row)\n",
        "    for row in grid:\n",
        "        print(\"\\t\".join(row))\n",
        "print_grid(U)"
      ],
      "metadata": {
        "id": "-nP3kIRA0Czs",
        "outputId": "af8b2f9f-b1d9-4a92-f8e1-ae0a632afec2",
        "colab": {
          "base_uri": "https://localhost:8080/"
        }
      },
      "execution_count": 6,
      "outputs": [
        {
          "output_type": "stream",
          "name": "stdout",
          "text": [
            " 0.647\t 0.753\t 0.855\t 1.000\n",
            " 0.557\t WALL \t 0.569\t-1.000\n",
            " 0.465\t 0.386\t 0.451\t 0.230\n"
          ]
        }
      ]
    },
    {
      "cell_type": "code",
      "source": [
        "\n",
        "def vectorize_utilities(U, terminals, width=4, height=3, wall=(1,1)):\n",
        "    \"\"\"\n",
        "    Extracts the utilities of the 9 nonterminal states into a vector.\n",
        "\n",
        "    The vector is built in row-major order (from bottom row upward, left to right),\n",
        "    skipping the wall and terminal states.\n",
        "\n",
        "    Returns:\n",
        "      A list of 9 utility values.\n",
        "    \"\"\"\n",
        "    vector = []\n",
        "    for y in range(height):\n",
        "        for x in range(width):\n",
        "            s = (x, y)\n",
        "            if s == wall or s in terminals:\n",
        "                continue\n",
        "            vector.append(U[s])\n",
        "    return vector\n",
        "\n"
      ],
      "metadata": {
        "id": "ZCFbvvn50Jj5"
      },
      "execution_count": 8,
      "outputs": []
    },
    {
      "cell_type": "code",
      "source": [
        "# Loop over gamma values from 0 to 0.95 in steps of 0.05,\n",
        "# compute the utility vector for each, and store into a matrix.\n",
        "gammas = np.arange(0, 1.0, 0.05)  # will include 0.0 up to 0.95\n",
        "matrix = []\n",
        "\n",
        "for g in gammas:\n",
        "    U, terminals = value_iteration(g, epsilon=0.001)\n",
        "    vec = vectorize_utilities(U, terminals)\n",
        "    matrix.append(vec)\n",
        "\n",
        "matrix = np.array(matrix)\n",
        "print(\"\\nUtility matrix (each row corresponds to a gamma value):\")\n",
        "# print(matrix)\n"
      ],
      "metadata": {
        "id": "gzmCDalK0TZO",
        "outputId": "6e5d4746-2bd4-480b-aae4-03f5e568b3dc",
        "colab": {
          "base_uri": "https://localhost:8080/"
        }
      },
      "execution_count": 9,
      "outputs": [
        {
          "output_type": "stream",
          "name": "stdout",
          "text": [
            "Gamma = 0, converged in one iteration.\n",
            "Gamma = 0.05 converged after 2 iterations.\n",
            "Gamma = 0.1 converged after 2 iterations.\n",
            "Gamma = 0.15000000000000002 converged after 3 iterations.\n",
            "Gamma = 0.2 converged after 3 iterations.\n",
            "Gamma = 0.25 converged after 4 iterations.\n",
            "Gamma = 0.30000000000000004 converged after 4 iterations.\n",
            "Gamma = 0.35000000000000003 converged after 5 iterations.\n",
            "Gamma = 0.4 converged after 6 iterations.\n",
            "Gamma = 0.45 converged after 7 iterations.\n",
            "Gamma = 0.5 converged after 7 iterations.\n",
            "Gamma = 0.55 converged after 8 iterations.\n",
            "Gamma = 0.6000000000000001 converged after 9 iterations.\n",
            "Gamma = 0.65 converged after 10 iterations.\n",
            "Gamma = 0.7000000000000001 converged after 11 iterations.\n",
            "Gamma = 0.75 converged after 12 iterations.\n",
            "Gamma = 0.8 converged after 13 iterations.\n",
            "Gamma = 0.8500000000000001 converged after 14 iterations.\n",
            "Gamma = 0.9 converged after 15 iterations.\n",
            "Gamma = 0.9500000000000001 converged after 20 iterations.\n",
            "\n",
            "Utility matrix (each row corresponds to a gamma value):\n"
          ]
        }
      ]
    }
  ]
}