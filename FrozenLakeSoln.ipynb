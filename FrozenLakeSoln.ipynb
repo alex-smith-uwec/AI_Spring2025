{
  "nbformat": 4,
  "nbformat_minor": 0,
  "metadata": {
    "colab": {
      "provenance": [],
      "authorship_tag": "ABX9TyObnrbcFLyTQzbiIyj+lbIk",
      "include_colab_link": true
    },
    "kernelspec": {
      "name": "python3",
      "display_name": "Python 3"
    },
    "language_info": {
      "name": "python"
    }
  },
  "cells": [
    {
      "cell_type": "markdown",
      "metadata": {
        "id": "view-in-github",
        "colab_type": "text"
      },
      "source": [
        "<a href=\"https://colab.research.google.com/github/alex-smith-uwec/AI_Spring2025/blob/main/FrozenLakeSoln.ipynb\" target=\"_parent\"><img src=\"https://colab.research.google.com/assets/colab-badge.svg\" alt=\"Open In Colab\"/></a>"
      ]
    },
    {
      "cell_type": "code",
      "source": [
        "import warnings\n",
        "\n",
        "# Suppress all DeprecationWarnings globally\n",
        "#You can safely ignore warnings. This code helps supress some\n",
        "warnings.simplefilter(\"ignore\", DeprecationWarning)\n"
      ],
      "metadata": {
        "id": "iFgjH2qYii8N"
      },
      "execution_count": 1,
      "outputs": []
    },
    {
      "source": [
        "#Enviroment setup\n",
        "import gym\n",
        "import numpy as np\n",
        "\n",
        "# Define the custom 8x8 grid\n",
        "custom_map = [\n",
        "    \"SFFFFFFF\",  # Row 1\n",
        "    \"FFFFFFFF\",  # Row 2\n",
        "    \"FFHFFFFF\",  # Row 3\n",
        "    \"FFHFFFFF\",  # Row 4\n",
        "    \"HHHFFHHH\",  # Row 5 (specified)\n",
        "    \"FFFFFFFF\",  # Row 6\n",
        "    \"FFHFFFFF\",  # Row 7\n",
        "    \"FFHFFFFG\"   # Row 8\n",
        "]\n",
        "\n",
        "env=gym.make('FrozenLake-v1', desc=custom_map, is_slippery=True, new_step_api=True)"
      ],
      "cell_type": "code",
      "metadata": {
        "id": "Jyi-glb1DHx6"
      },
      "execution_count": 29,
      "outputs": []
    },
    {
      "cell_type": "code",
      "source": [
        "\n",
        "\n",
        "\n",
        "n_states = env.observation_space.n\n",
        "n_actions = env.action_space.n\n",
        "\n",
        "gamma = 0.9\n",
        "theta = 1e-6\n",
        "\n",
        "\n",
        "V = np.zeros(n_states)\n",
        "policy = np.zeros(n_states, dtype=int)\n",
        "\n",
        "\n",
        "def value_iteration():\n",
        "    global V, policy\n",
        "    while True:\n",
        "        delta = 0\n",
        "        new_V = np.copy(V)\n",
        "        for s in range(n_states):\n",
        "            q_values = np.zeros(n_actions)\n",
        "            for a in range(n_actions):\n",
        "                for prob, next_state, reward, done in env.unwrapped.P[s][a]:\n",
        "                    if done:\n",
        "                        q_values[a] += prob * reward\n",
        "                    else:\n",
        "                        q_values[a] += prob * (reward + gamma * V[next_state])\n",
        "            new_V[s] = max(q_values)\n",
        "            delta = max(delta, abs(V[s] - new_V[s]))\n",
        "            policy[s] = np.argmax(q_values)\n",
        "        V = new_V\n",
        "        if delta < theta:\n",
        "            break\n",
        "\n",
        "\n",
        "def extract_policy():\n",
        "    for s in range(n_states):\n",
        "        q_values = np.zeros(n_actions)\n",
        "        for a in range(n_actions):\n",
        "            for prob, next_state, reward, done in env.unwrapped.P[s][a]:\n",
        "                if done:\n",
        "                    q_values[a] += prob * reward\n",
        "                else:\n",
        "                    q_values[a] += prob * (reward + gamma * V[next_state])\n",
        "        policy[s] = np.argmax(q_values)\n",
        "\n",
        "\n",
        "def display_policy():\n",
        "    actions = ['←', '↓', '→', '↑']\n",
        "    grid_size = int(np.sqrt(n_states))\n",
        "\n",
        "\n",
        "    lake_map = env.unwrapped.desc\n",
        "\n",
        "    print(\"\\nOptimal Policy:\\n\")\n",
        "    for i in range(grid_size):\n",
        "        row = \"\"\n",
        "        for j in range(grid_size):\n",
        "            state = i * grid_size + j\n",
        "            tile = lake_map[i, j].decode(\"utf-8\")\n",
        "\n",
        "            if tile == 'H':\n",
        "                cell = 'H'  # Hole\n",
        "            elif tile == 'G':\n",
        "                cell = 'G'  # Goal\n",
        "            elif tile == 'S':\n",
        "                cell = 'S'  # Start position\n",
        "            else:\n",
        "                cell = actions[policy[state]]\n",
        "            row += f\"| {cell} \"\n",
        "        row += \"|\"\n",
        "        print(row)\n",
        "        print(\"-\" * (grid_size * 4 + 1))\n",
        "\n",
        "\n",
        "value_iteration()\n",
        "extract_policy()\n",
        "display_policy()\n",
        "\n",
        "\n"
      ],
      "metadata": {
        "id": "orij2q7ViHaa",
        "outputId": "926cc6e9-5257-4a19-9eb2-c9f045f1ea80",
        "colab": {
          "base_uri": "https://localhost:8080/"
        }
      },
      "execution_count": 30,
      "outputs": [
        {
          "output_type": "stream",
          "name": "stdout",
          "text": [
            "\n",
            "Optimal Policy:\n",
            "\n",
            "| S | → | → | → | ← | ← | ← | ↓ |\n",
            "---------------------------------\n",
            "| ↑ | ↑ | ↑ | → | ↓ | ← | ← | ↓ |\n",
            "---------------------------------\n",
            "| ↑ | ← | H | → | ↓ | ← | ← | ↓ |\n",
            "---------------------------------\n",
            "| ↑ | ← | H | → | ← | ↑ | ↑ | ↑ |\n",
            "---------------------------------\n",
            "| H | H | H | → | ← | H | H | H |\n",
            "---------------------------------\n",
            "| ↓ | ↓ | ↓ | → | ↓ | ↓ | ↓ | ↓ |\n",
            "---------------------------------\n",
            "| ↑ | ← | H | → | → | → | ↓ | ↓ |\n",
            "---------------------------------\n",
            "| → | ← | H | → | → | → | → | G |\n",
            "---------------------------------\n"
          ]
        }
      ]
    },
    {
      "cell_type": "code",
      "source": [],
      "metadata": {
        "id": "5DjbH5N-JMAX"
      },
      "execution_count": null,
      "outputs": []
    },
    {
      "cell_type": "code",
      "source": [
        "print(env.spec.max_episode_steps)  # Check current step limit\n"
      ],
      "metadata": {
        "id": "WWBfV5eHJMer",
        "outputId": "4ca01c91-9321-4835-f19c-eb29e26dea89",
        "colab": {
          "base_uri": "https://localhost:8080/"
        }
      },
      "execution_count": 31,
      "outputs": [
        {
          "output_type": "stream",
          "name": "stdout",
          "text": [
            "100\n"
          ]
        }
      ]
    },
    {
      "cell_type": "code",
      "source": [
        "env._max_episode_steps = 5000  # Example: Increase limit if needed\n"
      ],
      "metadata": {
        "id": "bpEAMftbJRD8"
      },
      "execution_count": 32,
      "outputs": []
    },
    {
      "cell_type": "code",
      "source": [
        "# Function to run multiple episodes and compute average reward and steps\n",
        "def run_experiment(policy, env, num_episodes=1000):\n",
        "    terminal_states = []\n",
        "    rewards = []\n",
        "    steps = []\n",
        "    termination_reasons = {\"goal\": 0, \"hole\": 0, \"truncated\": 0}\n",
        "\n",
        "    for _ in range(num_episodes): # Fixed: Indentation corrected here\n",
        "        obs = env.reset()\n",
        "        total_reward = 0\n",
        "        step_count = 0\n",
        "        done = False\n",
        "        while not done:\n",
        "            action = policy[obs]\n",
        "            obs, reward, terminated, truncated, _ = env.step(action)\n",
        "            done = terminated or truncated\n",
        "            total_reward += reward\n",
        "            step_count += 1\n",
        "            terminal_states.append(obs)\n",
        "\n",
        "            if terminated:\n",
        "                if reward == 1:  # Assuming goal state has reward 1\n",
        "                    termination_reasons[\"goal\"] += 1\n",
        "                else:\n",
        "                    termination_reasons[\"hole\"] += 1\n",
        "            elif truncated:\n",
        "                termination_reasons[\"truncated\"] += 1\n",
        "        rewards.append(total_reward) # Fixed: Appending rewards and steps inside the episode loop\n",
        "        steps.append(step_count)\n",
        "\n",
        "    print(f\"Termination Reasons: {termination_reasons}\")\n",
        "\n",
        "\n",
        "    avg_reward = np.mean(rewards)\n",
        "    avg_steps = np.mean(steps)\n",
        "    print(f\"\\nAfter {num_episodes} episodes:\")\n",
        "    print(f\"Average reward: {avg_reward}\")\n",
        "    print(f\"Average number of steps per episode: {avg_steps}\")\n",
        "    # Return terminal states along with average reward and steps\n",
        "    return avg_reward, avg_steps, terminal_states # Modified line to return terminal_states"
      ],
      "metadata": {
        "id": "yP8whQ3Wfn5w"
      },
      "execution_count": 19,
      "outputs": []
    },
    {
      "cell_type": "code",
      "source": [
        "# Run the experiment\n",
        "avg_reward, avg_steps, terminal_states = run_experiment(policy, env, num_episodes=1000)\n",
        "\n",
        "# Reset the environment\n",
        "env.reset()"
      ],
      "metadata": {
        "id": "iX2VHt_NKPH8",
        "outputId": "66d47847-398f-4022-bcef-9137f34c3527",
        "colab": {
          "base_uri": "https://localhost:8080/"
        }
      },
      "execution_count": 24,
      "outputs": [
        {
          "output_type": "stream",
          "name": "stdout",
          "text": [
            "Termination Reasons: {'goal': 1000, 'hole': 0, 'truncated': 0}\n",
            "\n",
            "After 1000 episodes:\n",
            "Average reward: 1.0\n",
            "Average number of steps per episode: 80.691\n"
          ]
        },
        {
          "output_type": "execute_result",
          "data": {
            "text/plain": [
              "0"
            ]
          },
          "metadata": {},
          "execution_count": 24
        }
      ]
    },
    {
      "cell_type": "code",
      "source": [
        "# prompt: make a historgram showing outcomes of episodes\n",
        "\n",
        "import matplotlib.pyplot as plt\n",
        "\n",
        "# Assuming 'terminal_states' is the list of terminal states from the previous code\n",
        "plt.hist(terminal_states, bins=range(n_states + 1), align='left', rwidth=0.8)\n",
        "plt.xlabel(\"Terminal State\")\n",
        "plt.ylabel(\"Frequency\")\n",
        "plt.title(\"Histogram of Terminal States\")\n",
        "plt.xticks(range(n_states)) # Set x-axis ticks to integers representing states\n",
        "plt.show()\n"
      ],
      "metadata": {
        "id": "nkVYs1t1rSEA",
        "outputId": "82acda69-8fc2-4c73-d84d-3a9a175f446a",
        "colab": {
          "base_uri": "https://localhost:8080/",
          "height": 472
        }
      },
      "execution_count": 23,
      "outputs": [
        {
          "output_type": "display_data",
          "data": {
            "text/plain": [
              "<Figure size 640x480 with 1 Axes>"
            ],
            "image/png": "[encoded data removed]"
          },
          "metadata": {}
        }
      ]
    },
    {
      "cell_type": "code",
      "source": [
        "env"
      ],
      "metadata": {
        "id": "vWZ4SzvFJo4i",
        "outputId": "fc070dfd-1ac0-48ba-9d94-f16ab13b7ee8",
        "colab": {
          "base_uri": "https://localhost:8080/"
        }
      },
      "execution_count": 22,
      "outputs": [
        {
          "output_type": "execute_result",
          "data": {
            "text/plain": [
              "<TimeLimit<OrderEnforcing<StepAPICompatibility<PassiveEnvChecker<FrozenLakeEnv<FrozenLake-v1>>>>>>"
            ]
          },
          "metadata": {},
          "execution_count": 22
        }
      ]
    },
    {
      "cell_type": "code",
      "source": [
        "print(env.unwrapped.desc)  # Print environment map to verify holes\n",
        "\n"
      ],
      "metadata": {
        "id": "Zyzr05QqKj4Q",
        "outputId": "f633b60b-97f1-49b8-aff9-5f0f53513605",
        "colab": {
          "base_uri": "https://localhost:8080/"
        }
      },
      "execution_count": 26,
      "outputs": [
        {
          "output_type": "stream",
          "name": "stdout",
          "text": [
            "[[b'S' b'F' b'F' b'F' b'F' b'F' b'F' b'F']\n",
            " [b'F' b'F' b'F' b'F' b'F' b'F' b'F' b'F']\n",
            " [b'F' b'F' b'H' b'F' b'F' b'F' b'F' b'F']\n",
            " [b'F' b'F' b'H' b'F' b'F' b'F' b'F' b'F']\n",
            " [b'H' b'H' b'H' b'F' b'F' b'H' b'H' b'H']\n",
            " [b'F' b'F' b'F' b'F' b'F' b'F' b'F' b'F']\n",
            " [b'F' b'F' b'H' b'F' b'F' b'F' b'F' b'F']\n",
            " [b'F' b'F' b'H' b'F' b'F' b'F' b'F' b'G']]\n"
          ]
        }
      ]
    },
    {
      "cell_type": "code",
      "source": [
        "hole_states = set(np.where(env.desc == b\"H\")[0])  # Identify hole positions\n"
      ],
      "metadata": {
        "id": "5iDU2tx6LEIH"
      },
      "execution_count": 33,
      "outputs": []
    },
    {
      "cell_type": "code",
      "source": [
        "hole_states"
      ],
      "metadata": {
        "id": "PnlWuNYULYpT",
        "outputId": "7e6c5a49-6652-466d-ffe5-c7f65566035a",
        "colab": {
          "base_uri": "https://localhost:8080/"
        }
      },
      "execution_count": 34,
      "outputs": [
        {
          "output_type": "execute_result",
          "data": {
            "text/plain": [
              "{2, 3, 4, 6, 7}"
            ]
          },
          "metadata": {},
          "execution_count": 34
        }
      ]
    }
  ]
}