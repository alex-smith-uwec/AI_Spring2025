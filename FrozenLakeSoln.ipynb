{
  "nbformat": 4,
  "nbformat_minor": 0,
  "metadata": {
    "colab": {
      "provenance": [],
      "authorship_tag": "ABX9TyPCnE93EDyfAuPGJFtPG3z5",
      "include_colab_link": true
    },
    "kernelspec": {
      "name": "python3",
      "display_name": "Python 3"
    },
    "language_info": {
      "name": "python"
    }
  },
  "cells": [
    {
      "cell_type": "markdown",
      "metadata": {
        "id": "view-in-github",
        "colab_type": "text"
      },
      "source": [
        "<a href=\"https://colab.research.google.com/github/alex-smith-uwec/AI_Spring2025/blob/main/FrozenLakeSoln.ipynb\" target=\"_parent\"><img src=\"https://colab.research.google.com/assets/colab-badge.svg\" alt=\"Open In Colab\"/></a>"
      ]
    },
    {
      "cell_type": "code",
      "source": [
        "import warnings\n",
        "\n",
        "# Suppress all DeprecationWarnings globally\n",
        "#You can safely ignore warnings. This code helps supress some\n",
        "warnings.simplefilter(\"ignore\", DeprecationWarning)\n"
      ],
      "metadata": {
        "id": "iFgjH2qYii8N"
      },
      "execution_count": 1,
      "outputs": []
    },
    {
      "source": [
        "#Enviroment setup\n",
        "import gym\n",
        "import numpy as np\n",
        "\n",
        "# Define the custom 8x8 grid\n",
        "custom_map = [\n",
        "    \"SFFFFFFF\",  # Row 1\n",
        "    \"FFFFFFFF\",  # Row 2\n",
        "    \"FFHFFFFF\",  # Row 3\n",
        "    \"FFHFFFFF\",  # Row 4\n",
        "    \"HHHFFHHH\",  # Row 5 (specified)\n",
        "    \"FFFFFFFF\",  # Row 6\n",
        "    \"FFHFFFFF\",  # Row 7\n",
        "    \"FFHFFFFG\"   # Row 8\n",
        "]\n",
        "\n",
        "env=gym.make('FrozenLake-v1', desc=custom_map, is_slippery=True, new_step_api=True)"
      ],
      "cell_type": "code",
      "metadata": {
        "id": "Jyi-glb1DHx6"
      },
      "execution_count": 21,
      "outputs": []
    },
    {
      "cell_type": "code",
      "source": [
        "\n",
        "\n",
        "\n",
        "n_states = env.observation_space.n\n",
        "n_actions = env.action_space.n\n",
        "\n",
        "gamma = 0.9\n",
        "theta = 1e-6\n",
        "\n",
        "\n",
        "V = np.zeros(n_states)\n",
        "policy = np.zeros(n_states, dtype=int)\n",
        "\n",
        "\n",
        "def value_iteration():\n",
        "    global V, policy\n",
        "    while True:\n",
        "        delta = 0\n",
        "        new_V = np.copy(V)\n",
        "        for s in range(n_states):\n",
        "            q_values = np.zeros(n_actions)\n",
        "            for a in range(n_actions):\n",
        "                for prob, next_state, reward, done in env.unwrapped.P[s][a]:\n",
        "                    if done:\n",
        "                        q_values[a] += prob * reward\n",
        "                    else:\n",
        "                        q_values[a] += prob * (reward + gamma * V[next_state])\n",
        "            new_V[s] = max(q_values)\n",
        "            delta = max(delta, abs(V[s] - new_V[s]))\n",
        "            policy[s] = np.argmax(q_values)\n",
        "        V = new_V\n",
        "        if delta < theta:\n",
        "            break\n",
        "\n",
        "\n",
        "def extract_policy():\n",
        "    for s in range(n_states):\n",
        "        q_values = np.zeros(n_actions)\n",
        "        for a in range(n_actions):\n",
        "            for prob, next_state, reward, done in env.unwrapped.P[s][a]:\n",
        "                if done:\n",
        "                    q_values[a] += prob * reward\n",
        "                else:\n",
        "                    q_values[a] += prob * (reward + gamma * V[next_state])\n",
        "        policy[s] = np.argmax(q_values)\n",
        "\n",
        "\n",
        "def display_policy():\n",
        "    actions = ['←', '↓', '→', '↑']\n",
        "    grid_size = int(np.sqrt(n_states))\n",
        "\n",
        "\n",
        "    lake_map = env.unwrapped.desc\n",
        "\n",
        "    print(\"\\nOptimal Policy:\\n\")\n",
        "    for i in range(grid_size):\n",
        "        row = \"\"\n",
        "        for j in range(grid_size):\n",
        "            state = i * grid_size + j\n",
        "            tile = lake_map[i, j].decode(\"utf-8\")\n",
        "\n",
        "            if tile == 'H':\n",
        "                cell = 'H'  # Hole\n",
        "            elif tile == 'G':\n",
        "                cell = 'G'  # Goal\n",
        "            elif tile == 'S':\n",
        "                cell = 'S'  # Start position\n",
        "            else:\n",
        "                cell = actions[policy[state]]\n",
        "            row += f\"| {cell} \"\n",
        "        row += \"|\"\n",
        "        print(row)\n",
        "        print(\"-\" * (grid_size * 4 + 1))\n",
        "\n",
        "\n",
        "value_iteration()\n",
        "extract_policy()\n",
        "display_policy()\n",
        "\n",
        "\n"
      ],
      "metadata": {
        "id": "orij2q7ViHaa",
        "outputId": "a5e9f130-4861-4727-90ca-0b7b411e1444",
        "colab": {
          "base_uri": "https://localhost:8080/"
        }
      },
      "execution_count": 22,
      "outputs": [
        {
          "output_type": "stream",
          "name": "stdout",
          "text": [
            "\n",
            "Optimal Policy:\n",
            "\n",
            "| S | → | → | → | ← | ← | ← | ↓ |\n",
            "---------------------------------\n",
            "| ↑ | ↑ | ↑ | → | ↓ | ← | ← | ↓ |\n",
            "---------------------------------\n",
            "| ↑ | ← | H | → | ↓ | ← | ← | ↓ |\n",
            "---------------------------------\n",
            "| ↑ | ← | H | → | ← | ↑ | ↑ | ↑ |\n",
            "---------------------------------\n",
            "| H | H | H | → | ← | H | H | H |\n",
            "---------------------------------\n",
            "| ↓ | ↓ | ↓ | → | ↓ | ↓ | ↓ | ↓ |\n",
            "---------------------------------\n",
            "| ↑ | ← | H | → | → | → | ↓ | ↓ |\n",
            "---------------------------------\n",
            "| → | ← | H | → | → | → | → | G |\n",
            "---------------------------------\n"
          ]
        }
      ]
    },
    {
      "cell_type": "code",
      "source": [
        "# Function to run multiple episodes and compute average reward and steps\n",
        "def run_experiment(policy, env, num_episodes=1000):\n",
        "    terminal_states = []\n",
        "    rewards = []\n",
        "    steps = []\n",
        "    for _ in range(num_episodes):\n",
        "        # Reset the environment (new API returns observation and info)\n",
        "        # The updated reset() method returns observation only\n",
        "        obs = env.reset()\n",
        "        total_reward = 0\n",
        "        step_count = 0\n",
        "        done = False\n",
        "        while not done:\n",
        "            # Choose the action from the computed policy\n",
        "            action = policy[obs]\n",
        "            # Perform the action; new API returns (obs, reward, terminated, truncated, info)\n",
        "            obs, reward, terminated, truncated, _ = env.step(action)\n",
        "            done = terminated or truncated\n",
        "            total_reward += reward\n",
        "            step_count += 1\n",
        "            terminal_states.append(obs)\n",
        "        rewards.append(total_reward)\n",
        "        steps.append(step_count)\n",
        "\n",
        "    avg_reward = np.mean(rewards)\n",
        "    avg_steps = np.mean(steps)\n",
        "    print(f\"\\nAfter {num_episodes} episodes:\")\n",
        "    print(f\"Average reward: {avg_reward}\")\n",
        "    print(f\"Average number of steps per episode: {avg_steps}\")\n",
        "    # Return terminal states along with average reward and steps\n",
        "    return avg_reward, avg_steps, terminal_states # Modified line to return terminal_states\n",
        "\n",
        "# Run the experiment\n",
        "avg_reward, avg_steps, terminal_states = run_experiment(policy, env, num_episodes=20000)\n",
        "\n",
        "# Reset the environment\n",
        "env.reset()"
      ],
      "metadata": {
        "colab": {
          "base_uri": "https://localhost:8080/"
        },
        "id": "yP8whQ3Wfn5w",
        "outputId": "f3428224-3e05-4330-af51-3d974dfcadc8"
      },
      "execution_count": 23,
      "outputs": [
        {
          "output_type": "stream",
          "name": "stderr",
          "text": [
            "/usr/local/lib/python3.11/dist-packages/gym/utils/passive_env_checker.py:241: DeprecationWarning: `np.bool8` is a deprecated alias for `np.bool_`.  (Deprecated NumPy 1.24)\n",
            "  if not isinstance(terminated, (bool, np.bool8)):\n"
          ]
        },
        {
          "output_type": "stream",
          "name": "stdout",
          "text": [
            "\n",
            "After 20000 episodes:\n",
            "Average reward: 0.7491\n",
            "Average number of steps per episode: 70.22145\n"
          ]
        },
        {
          "output_type": "execute_result",
          "data": {
            "text/plain": [
              "0"
            ]
          },
          "metadata": {},
          "execution_count": 23
        }
      ]
    },
    {
      "cell_type": "code",
      "source": [
        "# prompt: make a historgram showing outcomes of episodes\n",
        "\n",
        "import matplotlib.pyplot as plt\n",
        "\n",
        "# Assuming 'terminal_states' is the list of terminal states from the previous code\n",
        "plt.hist(terminal_states, bins=range(n_states + 1), align='left', rwidth=0.8)\n",
        "plt.xlabel(\"Terminal State\")\n",
        "plt.ylabel(\"Frequency\")\n",
        "plt.title(\"Histogram of Terminal States\")\n",
        "plt.xticks(range(n_states)) # Set x-axis ticks to integers representing states\n",
        "plt.show()\n"
      ],
      "metadata": {
        "id": "nkVYs1t1rSEA",
        "outputId": "64c3729e-cbe8-47ef-e47f-6e7c837632c0",
        "colab": {
          "base_uri": "https://localhost:8080/",
          "height": 472
        }
      },
      "execution_count": 24,
      "outputs": [
        {
          "output_type": "display_data",
          "data": {
            "text/plain": [
              "<Figure size 640x480 with 1 Axes>"
            ],
            "image/png": "[encoded data removed]"
          },
          "metadata": {}
        }
      ]
    }
  ]
}